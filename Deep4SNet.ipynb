{
  "nbformat": 4,
  "nbformat_minor": 0,
  "metadata": {
    "colab": {
      "name": "Deep4SNet.ipynb",
      "provenance": [],
      "collapsed_sections": [],
      "toc_visible": true
    },
    "kernelspec": {
      "name": "python3",
      "display_name": "Python 3"
    },
    "accelerator": "GPU"
  },
  "cells": [
    {
      "cell_type": "markdown",
      "metadata": {
        "id": "DYiqvysTl6n_",
        "colab_type": "text"
      },
      "source": [
        "## **Deep4SNet:  external validation**"
      ]
    },
    {
      "cell_type": "markdown",
      "metadata": {
        "id": "Tl82USYCmCqc",
        "colab_type": "text"
      },
      "source": [
        "Authors:  Dora Maria Ballesteros, Yohanna Patricia Rodriguez, Diego Renza, Gonzalo Arce\n",
        "\n"
      ]
    },
    {
      "cell_type": "markdown",
      "metadata": {
        "id": "-dOPC-STneVl",
        "colab_type": "text"
      },
      "source": [
        "2019"
      ]
    },
    {
      "cell_type": "markdown",
      "metadata": {
        "id": "aqIVbK5_mmRk",
        "colab_type": "text"
      },
      "source": [
        "Contact:  dora.ballesteros@unimilitar.edu.co"
      ]
    },
    {
      "cell_type": "code",
      "metadata": {
        "id": "bsPEpbgL_ejb",
        "colab_type": "code",
        "colab": {}
      },
      "source": [
        "import tensorflow as tf\n",
        "from tensorflow import keras\n",
        "from tensorflow.keras.models import load_model\n",
        "model = '/content/model_Deep4SNet.h5'\n",
        "weights_model = '/content/weights_Deep4SNet.h5'\n",
        "model = load_model(model)\n",
        "model.load_weights(weights_model)\n"
      ],
      "execution_count": 0,
      "outputs": []
    },
    {
      "cell_type": "code",
      "metadata": {
        "id": "Q1I7UP3OBRFc",
        "colab_type": "code",
        "colab": {}
      },
      "source": [
        "import cv2\n",
        "import numpy as np\n",
        "from google.colab import files\n",
        "\n",
        "uploaded=files.upload()\n",
        "\n",
        "for fn in uploaded.keys():\n",
        " \n",
        "  # New histograms to be predicted\n",
        "  path='/content/' + fn\n",
        "  img=cv2.imread(path)\n",
        "  img=cv2.resize(img,(150,150)) \n",
        "  img=np.reshape(img,[1,150,150,3])  \n",
        "  classes = model.predict(img, batch_size=19)\n",
        " \n",
        "  print(classes[0])\n",
        " \n",
        "  if classes[0]>0.5:\n",
        "    print(\" The voice recording\" + fn +  \" is original\")\n",
        "   \n",
        "  else:\n",
        "  #  print(fn + \" is fake\")\n",
        "    print(\" The voice recording\" + fn + \" is fake\")\n"
      ],
      "execution_count": 0,
      "outputs": []
    }
  ]
}